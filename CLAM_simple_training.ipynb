{
 "cells": [
  {
   "cell_type": "code",
   "execution_count": 1,
   "id": "4ec4d91d-d3ce-4017-9040-e51b325c581c",
   "metadata": {},
   "outputs": [],
   "source": [
    "wsi_labels_path = '/media/yanis/LaCie/Final_execution_files/train/labels_csv/labels.csv'\n",
    "features_path = '/media/yanis/LaCie/Final_execution_files/train/features_final/'\n",
    "test_labels_csv_path = '/media/yanis/LaCie/Camelyon16/evaluation/reference.csv'"
   ]
  },
  {
   "cell_type": "code",
   "execution_count": 2,
   "id": "49bfba40-a924-4839-887f-7981e6236b63",
   "metadata": {},
   "outputs": [],
   "source": [
    "import os\n",
    "import pandas as pd\n",
    "from sklearn.model_selection import train_test_split\n",
    "\n",
    "def generate_class_balanced_split(directory_path):\n",
    "\n",
    "\n",
    "    labels_df = pd.read_csv(test_labels_csv_path)\n",
    "\n",
    "    filenames = [f for f in os.listdir(directory_path) if f.endswith('.pt')]\n",
    "    \n",
    "    slide_ids = ['_'.join(filename.split('_')[:2]) for filename in filenames]\n",
    "\n",
    "    labels = []\n",
    "\n",
    "    for slide_id in slide_ids:\n",
    "        if 'normal' in slide_id:\n",
    "            label = 'normal_tissue'\n",
    "        elif 'tumor' in slide_id:\n",
    "            label = 'tumor_tissue'\n",
    "        else:\n",
    "            matching_rows = labels_df[labels_df['image'].str.startswith(slide_id)]\n",
    "            if not matching_rows.empty:\n",
    "                label = matching_rows.iloc[0]['class']\n",
    "                if label == 'negative':\n",
    "                    label = 'normal_tissue'\n",
    "                else:\n",
    "                    label = 'tumor_tissue'\n",
    "            else:\n",
    "                label = 'unknown'\n",
    "\n",
    "        labels.append(label)    \n",
    "\n",
    "    df = pd.DataFrame({'slide_id': slide_ids, 'label': labels})\n",
    "    train_df_list = []\n",
    "    val_df_list = []\n",
    "    for label in df['label'].unique():\n",
    "        class_subset = df[df['label'] == label]\n",
    "        train_subset, val_subset = train_test_split(class_subset, test_size=0.20, random_state=42)\n",
    "        train_df_list.append(train_subset)\n",
    "        val_df_list.append(val_subset)\n",
    "\n",
    "    train_df = pd.concat(train_df_list)\n",
    "    train_df['split_membership'] = 'train'\n",
    "    val_df = pd.concat(val_df_list)\n",
    "    val_df['split_membership'] = 'val'\n",
    "\n",
    "    final_df = pd.concat([train_df, val_df]).sort_values(by='slide_id')\n",
    "\n",
    "    return final_df\n",
    "\n",
    "# Usage\n",
    "directory_path = '/media/yanis/LaCie/Final_execution_files/train/features_final/'\n",
    "csv_output_path = wsi_labels_path\n",
    "\n",
    "split_df = generate_class_balanced_split(directory_path)\n",
    "split_df.to_csv(csv_output_path, index=False)\n"
   ]
  },
  {
   "cell_type": "code",
   "execution_count": 3,
   "id": "c8fa1d71-9254-49f1-a168-8efdb346e735",
   "metadata": {},
   "outputs": [],
   "source": [
    "from torch.utils.data import Dataset\n",
    "import pandas as pd\n",
    "import torch\n",
    "\n",
    "class WSI_dataset(Dataset):\n",
    "    def __init__(self,wsi_list,features_path):\n",
    "        self.wsi_list = wsi_list\n",
    "        self.features_path = features_path\n",
    "        self.label_to_int = {'normal_tissue': 0, 'tumor_tissue': 1}\n",
    "    def __len__(self):\n",
    "        return len(self.wsi_list)\n",
    "\n",
    "    def __getitem__(self, idx):\n",
    "        name = self.wsi_list[idx]['slide_id']\n",
    "        label = torch.tensor(self.label_to_int[self.wsi_list[idx]['label']], dtype=torch.long)\n",
    "        features = torch.load(self.features_path+name+'_features.pt')\n",
    "        return (features,label)"
   ]
  },
  {
   "cell_type": "code",
   "execution_count": 4,
   "id": "10cf3ded-7b1a-4883-83e1-a0df903047b4",
   "metadata": {},
   "outputs": [],
   "source": [
    "%matplotlib inline\n",
    "import matplotlib.pyplot as plt\n",
    "\n",
    "def plot_combined_loss(train_loss_values, val_loss_values, epochs):\n",
    "    plt.figure(figsize=(10, 6))\n",
    "\n",
    "    plt.plot(epochs, train_loss_values, label='Train Loss', color='blue')\n",
    "\n",
    "    plt.plot(epochs, val_loss_values, label='Validation Loss', color='red')\n",
    "\n",
    "    plt.xlabel('Epochs')\n",
    "    plt.ylabel('Loss')\n",
    "    plt.title('Training and Validation Loss per Epoch')\n",
    "    plt.legend()\n",
    "    plt.grid(True)\n",
    "    plt.show()"
   ]
  },
  {
   "cell_type": "code",
   "execution_count": 18,
   "id": "b77f4065-65e4-49d9-864c-3c90457a4178",
   "metadata": {},
   "outputs": [
    {
     "name": "stdout",
     "output_type": "stream",
     "text": [
      "Setting tau to 1.0\n",
      "starting epoch  0\n"
     ]
    },
    {
     "name": "stderr",
     "output_type": "stream",
     "text": [
      "100%|███████████████████████████████████████████| 78/78 [01:00<00:00,  1.29it/s]\n"
     ]
    },
    {
     "name": "stdout",
     "output_type": "stream",
     "text": [
      "Epoch: 0, train_loss: 0.7217\n"
     ]
    },
    {
     "name": "stderr",
     "output_type": "stream",
     "text": [
      "100%|███████████████████████████████████████████| 20/20 [00:10<00:00,  1.84it/s]\n"
     ]
    },
    {
     "name": "stdout",
     "output_type": "stream",
     "text": [
      "Epoch: 0, val_loss: 0.6972, AUC: 0.64, accuracy: 0.50, precision: 0.50, recall: 1.00, f1: 0.67\n",
      "starting epoch  1\n"
     ]
    },
    {
     "name": "stderr",
     "output_type": "stream",
     "text": [
      "100%|███████████████████████████████████████████| 78/78 [00:07<00:00, 10.72it/s]\n"
     ]
    },
    {
     "name": "stdout",
     "output_type": "stream",
     "text": [
      "Epoch: 1, train_loss: 0.7017\n"
     ]
    },
    {
     "name": "stderr",
     "output_type": "stream",
     "text": [
      "100%|███████████████████████████████████████████| 20/20 [00:00<00:00, 20.08it/s]\n"
     ]
    },
    {
     "name": "stdout",
     "output_type": "stream",
     "text": [
      "Epoch: 1, val_loss: 0.6884, AUC: 0.75, accuracy: 0.50, precision: 0.00, recall: 0.00, f1: 0.00\n",
      "starting epoch  2\n"
     ]
    },
    {
     "name": "stderr",
     "output_type": "stream",
     "text": [
      "100%|███████████████████████████████████████████| 78/78 [00:03<00:00, 21.46it/s]\n"
     ]
    },
    {
     "name": "stdout",
     "output_type": "stream",
     "text": [
      "Epoch: 2, train_loss: 0.7145\n"
     ]
    },
    {
     "name": "stderr",
     "output_type": "stream",
     "text": [
      "100%|███████████████████████████████████████████| 20/20 [00:01<00:00, 19.74it/s]\n"
     ]
    },
    {
     "name": "stdout",
     "output_type": "stream",
     "text": [
      "Epoch: 2, val_loss: 0.6815, AUC: 0.71, accuracy: 0.65, precision: 0.80, recall: 0.40, f1: 0.53\n",
      "starting epoch  3\n"
     ]
    },
    {
     "name": "stderr",
     "output_type": "stream",
     "text": [
      "100%|███████████████████████████████████████████| 78/78 [00:04<00:00, 15.61it/s]\n"
     ]
    },
    {
     "name": "stdout",
     "output_type": "stream",
     "text": [
      "Epoch: 3, train_loss: 0.7117\n"
     ]
    },
    {
     "name": "stderr",
     "output_type": "stream",
     "text": [
      "100%|███████████████████████████████████████████| 20/20 [00:01<00:00, 18.18it/s]\n"
     ]
    },
    {
     "name": "stdout",
     "output_type": "stream",
     "text": [
      "Epoch: 3, val_loss: 0.6990, AUC: 0.76, accuracy: 0.50, precision: 0.50, recall: 1.00, f1: 0.67\n",
      "starting epoch  4\n"
     ]
    },
    {
     "name": "stderr",
     "output_type": "stream",
     "text": [
      "100%|███████████████████████████████████████████| 78/78 [00:03<00:00, 22.33it/s]\n"
     ]
    },
    {
     "name": "stdout",
     "output_type": "stream",
     "text": [
      "Epoch: 4, train_loss: 0.7017\n"
     ]
    },
    {
     "name": "stderr",
     "output_type": "stream",
     "text": [
      "100%|███████████████████████████████████████████| 20/20 [00:01<00:00, 19.40it/s]\n"
     ]
    },
    {
     "name": "stdout",
     "output_type": "stream",
     "text": [
      "Epoch: 4, val_loss: 0.6636, AUC: 0.90, accuracy: 0.75, precision: 0.73, recall: 0.80, f1: 0.76\n",
      "starting epoch  5\n"
     ]
    },
    {
     "name": "stderr",
     "output_type": "stream",
     "text": [
      "100%|███████████████████████████████████████████| 78/78 [00:03<00:00, 23.09it/s]\n"
     ]
    },
    {
     "name": "stdout",
     "output_type": "stream",
     "text": [
      "Epoch: 5, train_loss: 0.6883\n"
     ]
    },
    {
     "name": "stderr",
     "output_type": "stream",
     "text": [
      "100%|███████████████████████████████████████████| 20/20 [00:01<00:00, 13.90it/s]\n"
     ]
    },
    {
     "name": "stdout",
     "output_type": "stream",
     "text": [
      "Epoch: 5, val_loss: 0.6594, AUC: 0.81, accuracy: 0.60, precision: 0.57, recall: 0.80, f1: 0.67\n",
      "starting epoch  6\n"
     ]
    },
    {
     "name": "stderr",
     "output_type": "stream",
     "text": [
      "100%|███████████████████████████████████████████| 78/78 [00:03<00:00, 22.00it/s]\n"
     ]
    },
    {
     "name": "stdout",
     "output_type": "stream",
     "text": [
      "Epoch: 6, train_loss: 0.6950\n"
     ]
    },
    {
     "name": "stderr",
     "output_type": "stream",
     "text": [
      "100%|███████████████████████████████████████████| 20/20 [00:01<00:00, 12.24it/s]\n"
     ]
    },
    {
     "name": "stdout",
     "output_type": "stream",
     "text": [
      "Epoch: 6, val_loss: 0.6868, AUC: 0.80, accuracy: 0.50, precision: 0.50, recall: 1.00, f1: 0.67\n",
      "starting epoch  7\n"
     ]
    },
    {
     "name": "stderr",
     "output_type": "stream",
     "text": [
      "100%|███████████████████████████████████████████| 78/78 [00:03<00:00, 21.11it/s]\n"
     ]
    },
    {
     "name": "stdout",
     "output_type": "stream",
     "text": [
      "Epoch: 7, train_loss: 0.6999\n"
     ]
    },
    {
     "name": "stderr",
     "output_type": "stream",
     "text": [
      "100%|███████████████████████████████████████████| 20/20 [00:01<00:00, 18.01it/s]\n"
     ]
    },
    {
     "name": "stdout",
     "output_type": "stream",
     "text": [
      "Epoch: 7, val_loss: 0.6457, AUC: 0.91, accuracy: 0.55, precision: 1.00, recall: 0.10, f1: 0.18\n",
      "starting epoch  8\n"
     ]
    },
    {
     "name": "stderr",
     "output_type": "stream",
     "text": [
      "100%|███████████████████████████████████████████| 78/78 [00:03<00:00, 22.64it/s]\n"
     ]
    },
    {
     "name": "stdout",
     "output_type": "stream",
     "text": [
      "Epoch: 8, train_loss: 0.6668\n"
     ]
    },
    {
     "name": "stderr",
     "output_type": "stream",
     "text": [
      "100%|███████████████████████████████████████████| 20/20 [00:00<00:00, 20.08it/s]\n"
     ]
    },
    {
     "name": "stdout",
     "output_type": "stream",
     "text": [
      "Epoch: 8, val_loss: 0.6150, AUC: 0.90, accuracy: 0.80, precision: 0.71, recall: 1.00, f1: 0.83\n",
      "starting epoch  9\n"
     ]
    },
    {
     "name": "stderr",
     "output_type": "stream",
     "text": [
      "100%|███████████████████████████████████████████| 78/78 [00:03<00:00, 22.53it/s]\n"
     ]
    },
    {
     "name": "stdout",
     "output_type": "stream",
     "text": [
      "Epoch: 9, train_loss: 0.6635\n"
     ]
    },
    {
     "name": "stderr",
     "output_type": "stream",
     "text": [
      "100%|███████████████████████████████████████████| 20/20 [00:01<00:00, 19.05it/s]\n"
     ]
    },
    {
     "name": "stdout",
     "output_type": "stream",
     "text": [
      "Epoch: 9, val_loss: 0.6061, AUC: 0.93, accuracy: 0.75, precision: 1.00, recall: 0.50, f1: 0.67\n",
      "starting epoch  10\n"
     ]
    },
    {
     "name": "stderr",
     "output_type": "stream",
     "text": [
      "100%|███████████████████████████████████████████| 78/78 [00:03<00:00, 21.69it/s]\n"
     ]
    },
    {
     "name": "stdout",
     "output_type": "stream",
     "text": [
      "Epoch: 10, train_loss: 0.6215\n"
     ]
    },
    {
     "name": "stderr",
     "output_type": "stream",
     "text": [
      "100%|███████████████████████████████████████████| 20/20 [00:01<00:00, 19.93it/s]\n"
     ]
    },
    {
     "name": "stdout",
     "output_type": "stream",
     "text": [
      "Epoch: 10, val_loss: 0.5630, AUC: 0.89, accuracy: 0.80, precision: 0.88, recall: 0.70, f1: 0.78\n",
      "starting epoch  11\n"
     ]
    },
    {
     "name": "stderr",
     "output_type": "stream",
     "text": [
      "100%|███████████████████████████████████████████| 78/78 [00:04<00:00, 18.57it/s]\n"
     ]
    },
    {
     "name": "stdout",
     "output_type": "stream",
     "text": [
      "Epoch: 11, train_loss: 0.6452\n"
     ]
    },
    {
     "name": "stderr",
     "output_type": "stream",
     "text": [
      "100%|███████████████████████████████████████████| 20/20 [00:01<00:00, 13.54it/s]\n"
     ]
    },
    {
     "name": "stdout",
     "output_type": "stream",
     "text": [
      "Epoch: 11, val_loss: 0.5659, AUC: 0.91, accuracy: 0.80, precision: 0.75, recall: 0.90, f1: 0.82\n",
      "starting epoch  12\n"
     ]
    },
    {
     "name": "stderr",
     "output_type": "stream",
     "text": [
      "100%|███████████████████████████████████████████| 78/78 [00:04<00:00, 19.44it/s]\n"
     ]
    },
    {
     "name": "stdout",
     "output_type": "stream",
     "text": [
      "Epoch: 12, train_loss: 0.6211\n"
     ]
    },
    {
     "name": "stderr",
     "output_type": "stream",
     "text": [
      "100%|███████████████████████████████████████████| 20/20 [00:01<00:00, 17.79it/s]\n"
     ]
    },
    {
     "name": "stdout",
     "output_type": "stream",
     "text": [
      "Epoch: 12, val_loss: 0.5604, AUC: 0.90, accuracy: 0.80, precision: 0.75, recall: 0.90, f1: 0.82\n",
      "starting epoch  13\n"
     ]
    },
    {
     "name": "stderr",
     "output_type": "stream",
     "text": [
      "100%|███████████████████████████████████████████| 78/78 [00:03<00:00, 21.11it/s]\n"
     ]
    },
    {
     "name": "stdout",
     "output_type": "stream",
     "text": [
      "Epoch: 13, train_loss: 0.5753\n"
     ]
    },
    {
     "name": "stderr",
     "output_type": "stream",
     "text": [
      "100%|███████████████████████████████████████████| 20/20 [00:01<00:00, 17.61it/s]\n"
     ]
    },
    {
     "name": "stdout",
     "output_type": "stream",
     "text": [
      "Epoch: 13, val_loss: 0.5800, AUC: 0.94, accuracy: 0.75, precision: 1.00, recall: 0.50, f1: 0.67\n",
      "starting epoch  14\n"
     ]
    },
    {
     "name": "stderr",
     "output_type": "stream",
     "text": [
      "100%|███████████████████████████████████████████| 78/78 [00:03<00:00, 22.32it/s]\n"
     ]
    },
    {
     "name": "stdout",
     "output_type": "stream",
     "text": [
      "Epoch: 14, train_loss: 0.5545\n"
     ]
    },
    {
     "name": "stderr",
     "output_type": "stream",
     "text": [
      "100%|███████████████████████████████████████████| 20/20 [00:01<00:00, 19.39it/s]\n"
     ]
    },
    {
     "name": "stdout",
     "output_type": "stream",
     "text": [
      "Epoch: 14, val_loss: 0.4811, AUC: 0.94, accuracy: 0.75, precision: 0.86, recall: 0.60, f1: 0.71\n",
      "starting epoch  15\n"
     ]
    },
    {
     "name": "stderr",
     "output_type": "stream",
     "text": [
      "100%|███████████████████████████████████████████| 78/78 [00:03<00:00, 21.97it/s]\n"
     ]
    },
    {
     "name": "stdout",
     "output_type": "stream",
     "text": [
      "Epoch: 15, train_loss: 0.5765\n"
     ]
    },
    {
     "name": "stderr",
     "output_type": "stream",
     "text": [
      "100%|███████████████████████████████████████████| 20/20 [00:01<00:00, 19.64it/s]\n"
     ]
    },
    {
     "name": "stdout",
     "output_type": "stream",
     "text": [
      "Epoch: 15, val_loss: 0.4996, AUC: 0.93, accuracy: 0.75, precision: 1.00, recall: 0.50, f1: 0.67\n",
      "starting epoch  16\n"
     ]
    },
    {
     "name": "stderr",
     "output_type": "stream",
     "text": [
      "100%|███████████████████████████████████████████| 78/78 [00:03<00:00, 22.48it/s]\n"
     ]
    },
    {
     "name": "stdout",
     "output_type": "stream",
     "text": [
      "Epoch: 16, train_loss: 0.4866\n"
     ]
    },
    {
     "name": "stderr",
     "output_type": "stream",
     "text": [
      "100%|███████████████████████████████████████████| 20/20 [00:01<00:00, 19.19it/s]\n"
     ]
    },
    {
     "name": "stdout",
     "output_type": "stream",
     "text": [
      "Epoch: 16, val_loss: 0.4236, AUC: 0.94, accuracy: 0.80, precision: 0.88, recall: 0.70, f1: 0.78\n",
      "starting epoch  17\n"
     ]
    },
    {
     "name": "stderr",
     "output_type": "stream",
     "text": [
      "100%|███████████████████████████████████████████| 78/78 [00:03<00:00, 19.61it/s]\n"
     ]
    },
    {
     "name": "stdout",
     "output_type": "stream",
     "text": [
      "Epoch: 17, train_loss: 0.4817\n"
     ]
    },
    {
     "name": "stderr",
     "output_type": "stream",
     "text": [
      "100%|███████████████████████████████████████████| 20/20 [00:02<00:00,  6.67it/s]\n"
     ]
    },
    {
     "name": "stdout",
     "output_type": "stream",
     "text": [
      "Epoch: 17, val_loss: 0.4645, AUC: 0.94, accuracy: 0.70, precision: 0.83, recall: 0.50, f1: 0.62\n",
      "starting epoch  18\n"
     ]
    },
    {
     "name": "stderr",
     "output_type": "stream",
     "text": [
      "100%|███████████████████████████████████████████| 78/78 [00:05<00:00, 14.18it/s]\n"
     ]
    },
    {
     "name": "stdout",
     "output_type": "stream",
     "text": [
      "Epoch: 18, train_loss: 0.4777\n"
     ]
    },
    {
     "name": "stderr",
     "output_type": "stream",
     "text": [
      "100%|███████████████████████████████████████████| 20/20 [00:00<00:00, 20.17it/s]\n"
     ]
    },
    {
     "name": "stdout",
     "output_type": "stream",
     "text": [
      "Epoch: 18, val_loss: 0.4284, AUC: 0.87, accuracy: 0.85, precision: 1.00, recall: 0.70, f1: 0.82\n",
      "starting epoch  19\n"
     ]
    },
    {
     "name": "stderr",
     "output_type": "stream",
     "text": [
      "100%|███████████████████████████████████████████| 78/78 [00:03<00:00, 19.85it/s]\n"
     ]
    },
    {
     "name": "stdout",
     "output_type": "stream",
     "text": [
      "Epoch: 19, train_loss: 0.4197\n"
     ]
    },
    {
     "name": "stderr",
     "output_type": "stream",
     "text": [
      "100%|███████████████████████████████████████████| 20/20 [00:01<00:00, 19.49it/s]\n"
     ]
    },
    {
     "name": "stdout",
     "output_type": "stream",
     "text": [
      "Epoch: 19, val_loss: 0.3995, AUC: 0.87, accuracy: 0.80, precision: 0.80, recall: 0.80, f1: 0.80\n",
      "starting epoch  20\n"
     ]
    },
    {
     "name": "stderr",
     "output_type": "stream",
     "text": [
      "100%|███████████████████████████████████████████| 78/78 [00:03<00:00, 21.63it/s]\n"
     ]
    },
    {
     "name": "stdout",
     "output_type": "stream",
     "text": [
      "Epoch: 20, train_loss: 0.3989\n"
     ]
    },
    {
     "name": "stderr",
     "output_type": "stream",
     "text": [
      "100%|███████████████████████████████████████████| 20/20 [00:01<00:00, 18.83it/s]\n"
     ]
    },
    {
     "name": "stdout",
     "output_type": "stream",
     "text": [
      "Epoch: 20, val_loss: 0.4272, AUC: 0.87, accuracy: 0.75, precision: 0.86, recall: 0.60, f1: 0.71\n",
      "starting epoch  21\n"
     ]
    },
    {
     "name": "stderr",
     "output_type": "stream",
     "text": [
      "100%|███████████████████████████████████████████| 78/78 [00:03<00:00, 22.68it/s]\n"
     ]
    },
    {
     "name": "stdout",
     "output_type": "stream",
     "text": [
      "Epoch: 21, train_loss: 0.3716\n"
     ]
    },
    {
     "name": "stderr",
     "output_type": "stream",
     "text": [
      "100%|███████████████████████████████████████████| 20/20 [00:01<00:00, 17.96it/s]\n"
     ]
    },
    {
     "name": "stdout",
     "output_type": "stream",
     "text": [
      "Epoch: 21, val_loss: 0.4440, AUC: 0.87, accuracy: 0.90, precision: 1.00, recall: 0.80, f1: 0.89\n",
      "starting epoch  22\n"
     ]
    },
    {
     "name": "stderr",
     "output_type": "stream",
     "text": [
      "100%|███████████████████████████████████████████| 78/78 [00:03<00:00, 22.52it/s]\n"
     ]
    },
    {
     "name": "stdout",
     "output_type": "stream",
     "text": [
      "Epoch: 22, train_loss: 0.3610\n"
     ]
    },
    {
     "name": "stderr",
     "output_type": "stream",
     "text": [
      "100%|███████████████████████████████████████████| 20/20 [00:01<00:00, 19.30it/s]\n"
     ]
    },
    {
     "name": "stdout",
     "output_type": "stream",
     "text": [
      "Epoch: 22, val_loss: 0.3734, AUC: 0.90, accuracy: 0.90, precision: 1.00, recall: 0.80, f1: 0.89\n",
      "starting epoch  23\n"
     ]
    },
    {
     "name": "stderr",
     "output_type": "stream",
     "text": [
      "100%|███████████████████████████████████████████| 78/78 [00:03<00:00, 22.05it/s]\n"
     ]
    },
    {
     "name": "stdout",
     "output_type": "stream",
     "text": [
      "Epoch: 23, train_loss: 0.3436\n"
     ]
    },
    {
     "name": "stderr",
     "output_type": "stream",
     "text": [
      "100%|███████████████████████████████████████████| 20/20 [00:01<00:00, 18.84it/s]\n"
     ]
    },
    {
     "name": "stdout",
     "output_type": "stream",
     "text": [
      "Epoch: 23, val_loss: 0.2596, AUC: 0.99, accuracy: 0.90, precision: 0.83, recall: 1.00, f1: 0.91\n",
      "starting epoch  24\n"
     ]
    },
    {
     "name": "stderr",
     "output_type": "stream",
     "text": [
      "100%|███████████████████████████████████████████| 78/78 [00:03<00:00, 20.03it/s]\n"
     ]
    },
    {
     "name": "stdout",
     "output_type": "stream",
     "text": [
      "Epoch: 24, train_loss: 0.3562\n"
     ]
    },
    {
     "name": "stderr",
     "output_type": "stream",
     "text": [
      "100%|███████████████████████████████████████████| 20/20 [00:01<00:00, 19.05it/s]\n"
     ]
    },
    {
     "name": "stdout",
     "output_type": "stream",
     "text": [
      "Epoch: 24, val_loss: 0.3869, AUC: 0.89, accuracy: 0.85, precision: 0.82, recall: 0.90, f1: 0.86\n",
      "starting epoch  25\n"
     ]
    },
    {
     "name": "stderr",
     "output_type": "stream",
     "text": [
      "100%|███████████████████████████████████████████| 78/78 [00:03<00:00, 21.07it/s]\n"
     ]
    },
    {
     "name": "stdout",
     "output_type": "stream",
     "text": [
      "Epoch: 25, train_loss: 0.2795\n"
     ]
    },
    {
     "name": "stderr",
     "output_type": "stream",
     "text": [
      "100%|███████████████████████████████████████████| 20/20 [00:01<00:00, 18.59it/s]\n"
     ]
    },
    {
     "name": "stdout",
     "output_type": "stream",
     "text": [
      "Epoch: 25, val_loss: 0.3679, AUC: 0.88, accuracy: 0.90, precision: 0.90, recall: 0.90, f1: 0.90\n",
      "starting epoch  26\n"
     ]
    },
    {
     "name": "stderr",
     "output_type": "stream",
     "text": [
      "100%|███████████████████████████████████████████| 78/78 [00:03<00:00, 22.43it/s]\n"
     ]
    },
    {
     "name": "stdout",
     "output_type": "stream",
     "text": [
      "Epoch: 26, train_loss: 0.2595\n"
     ]
    },
    {
     "name": "stderr",
     "output_type": "stream",
     "text": [
      "100%|███████████████████████████████████████████| 20/20 [00:01<00:00, 19.17it/s]\n"
     ]
    },
    {
     "name": "stdout",
     "output_type": "stream",
     "text": [
      "Epoch: 26, val_loss: 0.4157, AUC: 0.87, accuracy: 0.90, precision: 1.00, recall: 0.80, f1: 0.89\n",
      "starting epoch  27\n"
     ]
    },
    {
     "name": "stderr",
     "output_type": "stream",
     "text": [
      "100%|███████████████████████████████████████████| 78/78 [00:03<00:00, 21.43it/s]\n"
     ]
    },
    {
     "name": "stdout",
     "output_type": "stream",
     "text": [
      "Epoch: 27, train_loss: 0.2294\n"
     ]
    },
    {
     "name": "stderr",
     "output_type": "stream",
     "text": [
      "100%|███████████████████████████████████████████| 20/20 [00:01<00:00, 18.20it/s]\n"
     ]
    },
    {
     "name": "stdout",
     "output_type": "stream",
     "text": [
      "Epoch: 27, val_loss: 0.3789, AUC: 0.89, accuracy: 0.90, precision: 1.00, recall: 0.80, f1: 0.89\n",
      "starting epoch  28\n"
     ]
    },
    {
     "name": "stderr",
     "output_type": "stream",
     "text": [
      "100%|███████████████████████████████████████████| 78/78 [00:04<00:00, 19.30it/s]\n"
     ]
    },
    {
     "name": "stdout",
     "output_type": "stream",
     "text": [
      "Epoch: 28, train_loss: 0.2146\n"
     ]
    },
    {
     "name": "stderr",
     "output_type": "stream",
     "text": [
      "100%|███████████████████████████████████████████| 20/20 [00:01<00:00, 19.21it/s]\n"
     ]
    },
    {
     "name": "stdout",
     "output_type": "stream",
     "text": [
      "Epoch: 28, val_loss: 0.3308, AUC: 0.90, accuracy: 0.90, precision: 0.90, recall: 0.90, f1: 0.90\n",
      "starting epoch  29\n"
     ]
    },
    {
     "name": "stderr",
     "output_type": "stream",
     "text": [
      "100%|███████████████████████████████████████████| 78/78 [00:11<00:00,  6.87it/s]\n"
     ]
    },
    {
     "name": "stdout",
     "output_type": "stream",
     "text": [
      "Epoch: 29, train_loss: 0.1958\n"
     ]
    },
    {
     "name": "stderr",
     "output_type": "stream",
     "text": [
      "100%|███████████████████████████████████████████| 20/20 [00:01<00:00, 10.51it/s]\n"
     ]
    },
    {
     "name": "stdout",
     "output_type": "stream",
     "text": [
      "Epoch: 29, val_loss: 0.3830, AUC: 0.90, accuracy: 0.90, precision: 0.90, recall: 0.90, f1: 0.90\n",
      "Loss hasn't improved for more than 5 epochs - early stopping\n",
      "Best epoch :  23 \n",
      ",Loss from best epoch: 0.2596307823434472 \n",
      "F1 from best epoch :  0.9090909090909091\n"
     ]
    },
    {
     "data": {
      "image/png": "[encoded data removed]",
      "text/plain": [
       "<Figure size 1000x600 with 1 Axes>"
      ]
     },
     "metadata": {},
     "output_type": "display_data"
    }
   ],
   "source": [
    "import pandas as pd\n",
    "from torch.utils.data import DataLoader\n",
    "from models.model_clam import CLAM_SB\n",
    "import torch\n",
    "import torch.nn as nn\n",
    "import torch.optim as optim\n",
    "from topk.svm import SmoothTop1SVM\n",
    "from tqdm import tqdm\n",
    "from sklearn.metrics import roc_curve, auc\n",
    "\n",
    "wsi_df = pd.read_csv(wsi_labels_path)\n",
    "device=torch.device(\"cuda\" if torch.cuda.is_available() else \"cpu\")\n",
    "train_list = []\n",
    "val_list = []\n",
    "\n",
    "for _, row in wsi_df.iterrows():\n",
    "    membership = row['split_membership']\n",
    "    if membership == 'train':\n",
    "        train_list.append(row)\n",
    "    elif membership == 'val':\n",
    "        val_list.append(row)\n",
    "        \n",
    "train_dataset,val_dataset = WSI_dataset(train_list,features_path),WSI_dataset(val_list,features_path)\n",
    "batch_size = 1\n",
    "shuffle = True\n",
    "num_workers = 4\n",
    "train_loader = DataLoader(train_dataset, batch_size=batch_size, shuffle=shuffle, num_workers=num_workers)\n",
    "val_loader = DataLoader(val_dataset, batch_size=batch_size, shuffle=shuffle, num_workers=num_workers)\n",
    "\n",
    "loss_fn = nn.CrossEntropyLoss()\n",
    "instance_loss_fn = SmoothTop1SVM(n_classes = 2).cuda()\n",
    "\n",
    "model_dict = {\"dropout\": True, 'n_classes': 2,\"size_arg\": 'small','k_sample': 8}\n",
    "\n",
    "model = CLAM_SB(**model_dict, instance_loss_fn=instance_loss_fn)\n",
    "optimizer = optim.Adam(filter(lambda p: p.requires_grad, model.parameters()), lr=0.0002, weight_decay=1e-5)\n",
    "\n",
    "model.relocate() #met le modele sur le device (gpu)\n",
    "\n",
    "model.train()\n",
    "\n",
    "\n",
    "bag_weight = 0.7\n",
    "num_epochs = 50\n",
    "\n",
    "train_loss_list = []\n",
    "val_loss_list = []\n",
    "best_f1 = 0\n",
    "best_loss = float('inf')\n",
    "early_stopping_counter = 0\n",
    "for epoch in range(num_epochs):\n",
    "    train_loss = 0.\n",
    "    val_loss = 0.\n",
    "    print('starting epoch ',epoch)\n",
    "    model.train()\n",
    "    for index, (features, label) in enumerate(tqdm(train_loader)):\n",
    "        features = features.to(device)\n",
    "        label = label.to(device)\n",
    "        \n",
    "        logits, Y_prob, pred, _, instance_dict = model(features, label=label, instance_eval=True)\n",
    "        loss = loss_fn(logits, label)\n",
    "        instance_loss = instance_dict['instance_loss']\n",
    "        total_loss = bag_weight * loss + (1-bag_weight) * instance_loss \n",
    "        train_loss += loss.item()\n",
    "        total_loss.backward()\n",
    "    \n",
    "        optimizer.step()\n",
    "        optimizer.zero_grad()\n",
    "    train_loss /= len(train_loader)\n",
    "    print('Epoch: {}, train_loss: {:.4f}'.format(epoch, train_loss))\n",
    "    model.eval()\n",
    "    total_acc = 0\n",
    "    false_pos = 0\n",
    "    true_pos = 0\n",
    "    true_neg = 0\n",
    "    false_neg = 0\n",
    "    all_preds_prob = []\n",
    "    all_labels = []\n",
    "    for index, (features, label) in enumerate(tqdm(val_loader)):\n",
    "        #print('starting batch ',index)\n",
    "        features = features.to(device)\n",
    "        label = label.to(device)\n",
    "        with torch.no_grad():\n",
    "            logits, Y_prob, Y_hat, _, instance_dict = model(features, label=label, instance_eval=False)\n",
    "            loss = loss_fn(logits, label)\n",
    "            val_loss += loss.item()\n",
    "            all_preds_prob.append(Y_prob[0][1].cpu())\n",
    "            all_labels.append(label.cpu())\n",
    "            pred = 0\n",
    "            if(Y_prob[0][1]>0.49):\n",
    "                pred = 1\n",
    "            else:\n",
    "                pred = 0\n",
    "            if(pred == label):\n",
    "                total_acc+=1\n",
    "                if(pred==1):\n",
    "                    true_pos+=1\n",
    "                else:\n",
    "                    true_neg+=1\n",
    "            else:\n",
    "                if(pred==1):\n",
    "                    false_pos+=1\n",
    "                else:\n",
    "                    false_neg+=1\n",
    "\n",
    "    if(true_pos == 0):\n",
    "        precision=0\n",
    "        recall=0\n",
    "        f1=0\n",
    "    else:\n",
    "        precision = true_pos / (true_pos+false_pos)\n",
    "        recall = true_pos / (true_pos+false_neg)\n",
    "        f1 = (2*precision*recall)/(precision+recall)\n",
    "    total_acc /= len(val_loader)\n",
    "    val_loss /= len(val_loader)\n",
    "    train_loss_list.append(train_loss)\n",
    "    val_loss_list.append(val_loss)\n",
    "    fpr, tpr, thresholds = roc_curve(all_labels, all_preds_prob)\n",
    "    roc_auc = auc(fpr, tpr)\n",
    "    print('Epoch: {}, val_loss: {:.4f}, AUC: {:.2f}, accuracy: {:.2f}, precision: {:.2f}, recall: {:.2f}, f1: {:.2f}'.format(epoch, val_loss, roc_auc,total_acc, precision, recall, f1))\n",
    "    if val_loss < best_loss:\n",
    "            model_path = './CLAM_100.pt'\n",
    "            torch.save(model.state_dict(), model_path)\n",
    "            best_f1 = f1\n",
    "            best_loss = val_loss\n",
    "            best_epoch = epoch\n",
    "            early_stopping_counter = 0\n",
    "    \n",
    "    else:\n",
    "        early_stopping_counter+=1\n",
    "        if(early_stopping_counter>5):\n",
    "            print(\"Loss hasn't improved for more than 5 epochs - early stopping\")\n",
    "            break\n",
    "       \n",
    "print('Best epoch : ',best_epoch,'\\n,Loss from best epoch:',best_loss,'\\nF1 from best epoch : ',best_f1)\n",
    "plot_combined_loss(train_loss_list, val_loss_list, range(0,epoch+1))"
   ]
  },
  {
   "cell_type": "code",
   "execution_count": null,
   "id": "10855ea9-0273-4c2a-b60b-c469e6ba89d9",
   "metadata": {},
   "outputs": [],
   "source": []
  }
 ],
 "metadata": {
  "kernelspec": {
   "display_name": "Python 3 (ipykernel)",
   "language": "python",
   "name": "python3"
  },
  "language_info": {
   "codemirror_mode": {
    "name": "ipython",
    "version": 3
   },
   "file_extension": ".py",
   "mimetype": "text/x-python",
   "name": "python",
   "nbconvert_exporter": "python",
   "pygments_lexer": "ipython3",
   "version": "3.11.5"
  }
 },
 "nbformat": 4,
 "nbformat_minor": 5
}
