{
 "cells": [
  {
   "cell_type": "code",
   "execution_count": 1,
   "id": "fab379c3-9081-44d4-9b68-950a433c11bd",
   "metadata": {},
   "outputs": [],
   "source": [
    "wsi_csv = '/media/yanis/LaCie/Final_execution_files/train/process_list_autogen.csv'\n",
    "wsi_path = '/media/yanis/LaCie/final_training_val_set/'\n",
    "patches_path = '/media/yanis/LaCie/Final_execution_files/train/patches/'\n",
    "output_path = '/media/yanis/LaCie/Final_execution_files/train/features2/'"
   ]
  },
  {
   "cell_type": "code",
   "execution_count": 2,
   "id": "3fff384d-ce76-4962-bedc-96b9f43d1045",
   "metadata": {},
   "outputs": [],
   "source": [
    "from torch.utils.data import Dataset\n",
    "import numpy as np\n",
    "import pandas as pd\n",
    "from torchvision import transforms\n",
    "import h5py\n",
    "\n",
    "class WSI_Dataset(Dataset):\n",
    "\n",
    "\tdef __init__(self, csv_path):\n",
    "\t\tself.df = pd.read_csv(csv_path)\n",
    "\t\n",
    "\tdef __len__(self):\n",
    "\t\treturn len(self.df)\n",
    "\n",
    "\tdef __getitem__(self, idx):\n",
    "\t\treturn self.df['slide_id'][idx]\n",
    "        \n",
    "class Patches_Dataset(Dataset):\n",
    "\tdef __init__(self,\n",
    "\t\tfile_path,\n",
    "\t\twsi,\n",
    "\t\tpretrained=False,\n",
    "\t\tcustom_transforms=None,\n",
    "\t\tcustom_downsample=1,\n",
    "\t\ttarget_patch_size=-1\n",
    "\t\t):\n",
    "\t\tself.pretrained=pretrained\n",
    "\t\tself.wsi = wsi\n",
    "\t\tself.roi_transforms = transforms.Compose([transforms.ToTensor(),\n",
    "                                                  transforms.Normalize(mean = (0.485, 0.456, 0.406), \n",
    "                                                                       std = (0.229, 0.224, 0.225))])\n",
    "\t\tself.file_path = file_path\n",
    "\t\twith h5py.File(self.file_path, \"r\") as f:\n",
    "\t\t\tdset = f['coords']\n",
    "\t\t\tself.patch_level = f['coords'].attrs['patch_level']\n",
    "\t\t\tself.patch_size = f['coords'].attrs['patch_size']\n",
    "\t\t\tself.length = len(dset)\n",
    "\t\t\tif target_patch_size > 0:\n",
    "\t\t\t\tself.target_patch_size = (target_patch_size, ) * 2\n",
    "\t\t\telif custom_downsample > 1:\n",
    "\t\t\t\tself.target_patch_size = (self.patch_size // custom_downsample, ) * 2\n",
    "\t\t\telse:\n",
    "\t\t\t\tself.target_patch_size = None\n",
    "\t\tself.summary()\n",
    "\n",
    "\tdef __len__(self):\n",
    "\t\treturn self.length\n",
    "\n",
    "\tdef summary(self):\n",
    "\t\thdf5_file = h5py.File(self.file_path, \"r\")\n",
    "\t\tdset = hdf5_file['coords']\n",
    "\t\tfor name, value in dset.attrs.items():\n",
    "\t\t\tprint(name, value)\n",
    "\n",
    "\tdef __getitem__(self, idx):\n",
    "\t\twith h5py.File(self.file_path,'r') as hdf5_file:\n",
    "\t\t\tcoord = hdf5_file['coords'][idx]\n",
    "\t\timg = self.wsi.read_region(coord, self.patch_level, (self.patch_size, self.patch_size)).convert('RGB')\n",
    "\n",
    "\t\tif self.target_patch_size is not None:\n",
    "\t\t\timg = img.resize(self.target_patch_size)\n",
    "\t\timg = self.roi_transforms(img).unsqueeze(0)\n",
    "\t\treturn img, coord\n",
    "        \n",
    "def collate_features(batch):\n",
    "\timg = torch.cat([item[0] for item in batch], dim = 0)\n",
    "\tcoords = np.vstack([item[1] for item in batch])\n",
    "\treturn [img, coords]\n",
    "    "
   ]
  },
  {
   "cell_type": "code",
   "execution_count": 3,
   "id": "e3004a93-acbc-495a-bd51-4b560c007a5b",
   "metadata": {},
   "outputs": [],
   "source": [
    "def save_hdf5(output_path, asset_dict, attr_dict= None, mode='a'):\n",
    "    file = h5py.File(output_path, mode)\n",
    "    for key, val in asset_dict.items():\n",
    "        data_shape = val.shape\n",
    "        if key not in file:\n",
    "            data_type = val.dtype\n",
    "            chunk_shape = (1, ) + data_shape[1:]\n",
    "            maxshape = (None, ) + data_shape[1:]\n",
    "            dset = file.create_dataset(key, shape=data_shape, maxshape=maxshape, chunks=chunk_shape, dtype=data_type)\n",
    "            dset[:] = val\n",
    "            if attr_dict is not None:\n",
    "                if key in attr_dict.keys():\n",
    "                    for attr_key, attr_val in attr_dict[key].items():\n",
    "                        dset.attrs[attr_key] = attr_val\n",
    "        else:\n",
    "            dset = file[key]\n",
    "            dset.resize(len(dset) + data_shape[0], axis=0)\n",
    "            dset[-data_shape[0]:] = val\n",
    "    file.close()\n",
    "    return output_path"
   ]
  },
  {
   "cell_type": "markdown",
   "id": "2b65705d-9f53-4069-8a41-35094873d895",
   "metadata": {},
   "source": [
    "The real time isn't showed, it took way longer (hours)"
   ]
  },
  {
   "cell_type": "code",
   "execution_count": 4,
   "id": "f8a9485c-fc7e-4c2d-ab47-bb9149634ebd",
   "metadata": {},
   "outputs": [
    {
     "name": "stdout",
     "output_type": "stream",
     "text": [
      "downsample [1. 1.]\n",
      "downsampled_level_dim [ 97792 221184]\n",
      "level_dim [ 97792 221184]\n",
      "name normal_001\n",
      "patch_level 0\n",
      "patch_size 256\n",
      "save_path ./project/execution_files/train/patches\n",
      "Bag : normal_001 - Processing 32 batches in total\n"
     ]
    },
    {
     "name": "stderr",
     "output_type": "stream",
     "text": [
      "100%|███████████████████████████████████████████| 32/32 [00:41<00:00,  1.30s/it]\n"
     ]
    },
    {
     "name": "stdout",
     "output_type": "stream",
     "text": [
      "downsample [1. 1.]\n",
      "downsampled_level_dim [ 97792 221184]\n",
      "level_dim [ 97792 221184]\n",
      "name normal_002\n",
      "patch_level 0\n",
      "patch_size 256\n",
      "save_path ./project/execution_files/train/patches\n",
      "Bag : normal_002 - Processing 62 batches in total\n"
     ]
    },
    {
     "name": "stderr",
     "output_type": "stream",
     "text": [
      "100%|███████████████████████████████████████████| 62/62 [01:03<00:00,  1.03s/it]\n"
     ]
    },
    {
     "name": "stdout",
     "output_type": "stream",
     "text": [
      "downsample [1. 1.]\n",
      "downsampled_level_dim [ 97792 221184]\n",
      "level_dim [ 97792 221184]\n",
      "name normal_003\n",
      "patch_level 0\n",
      "patch_size 256\n",
      "save_path ./project/execution_files/train/patches\n",
      "Bag : normal_003 - Processing 93 batches in total\n"
     ]
    },
    {
     "name": "stderr",
     "output_type": "stream",
     "text": [
      "100%|███████████████████████████████████████████| 93/93 [02:03<00:00,  1.32s/it]\n"
     ]
    },
    {
     "name": "stdout",
     "output_type": "stream",
     "text": [
      "downsample [1. 1.]\n",
      "downsampled_level_dim [ 96256 218624]\n",
      "level_dim [ 96256 218624]\n",
      "name normal_004\n",
      "patch_level 0\n",
      "patch_size 256\n",
      "save_path ./project/execution_files/train/patches\n",
      "Bag : normal_004 - Processing 22 batches in total\n"
     ]
    },
    {
     "name": "stderr",
     "output_type": "stream",
     "text": [
      "100%|███████████████████████████████████████████| 22/22 [00:26<00:00,  1.21s/it]\n"
     ]
    },
    {
     "name": "stdout",
     "output_type": "stream",
     "text": [
      "downsample [1. 1.]\n",
      "downsampled_level_dim [ 97792 221184]\n",
      "level_dim [ 97792 221184]\n",
      "name normal_005\n",
      "patch_level 0\n",
      "patch_size 256\n",
      "save_path ./project/execution_files/train/patches\n",
      "Bag : normal_005 - Processing 47 batches in total\n"
     ]
    },
    {
     "name": "stderr",
     "output_type": "stream",
     "text": [
      "100%|███████████████████████████████████████████| 47/47 [00:56<00:00,  1.20s/it]\n"
     ]
    },
    {
     "name": "stdout",
     "output_type": "stream",
     "text": [
      "downsample [1. 1.]\n",
      "downsampled_level_dim [ 97792 217088]\n",
      "level_dim [ 97792 217088]\n",
      "name normal_006\n",
      "patch_level 0\n",
      "patch_size 256\n",
      "save_path ./project/execution_files/train/patches\n",
      "Bag : normal_006 - Processing 16 batches in total\n"
     ]
    },
    {
     "name": "stderr",
     "output_type": "stream",
     "text": [
      "100%|███████████████████████████████████████████| 16/16 [00:16<00:00,  1.01s/it]\n"
     ]
    },
    {
     "name": "stdout",
     "output_type": "stream",
     "text": [
      "downsample [1. 1.]\n",
      "downsampled_level_dim [ 97792 221184]\n",
      "level_dim [ 97792 221184]\n",
      "name normal_007\n",
      "patch_level 0\n",
      "patch_size 256\n",
      "save_path ./project/execution_files/train/patches\n",
      "Bag : normal_007 - Processing 58 batches in total\n"
     ]
    },
    {
     "name": "stderr",
     "output_type": "stream",
     "text": [
      "100%|███████████████████████████████████████████| 58/58 [01:06<00:00,  1.14s/it]\n"
     ]
    },
    {
     "name": "stdout",
     "output_type": "stream",
     "text": [
      "downsample [1. 1.]\n",
      "downsampled_level_dim [ 97792 221184]\n",
      "level_dim [ 97792 221184]\n",
      "name normal_008\n",
      "patch_level 0\n",
      "patch_size 256\n",
      "save_path ./project/execution_files/train/patches\n",
      "Bag : normal_008 - Processing 9 batches in total\n"
     ]
    },
    {
     "name": "stderr",
     "output_type": "stream",
     "text": [
      "100%|█████████████████████████████████████████████| 9/9 [00:09<00:00,  1.04s/it]\n"
     ]
    },
    {
     "name": "stdout",
     "output_type": "stream",
     "text": [
      "downsample [1. 1.]\n",
      "downsampled_level_dim [ 97792 220672]\n",
      "level_dim [ 97792 220672]\n",
      "name normal_009\n",
      "patch_level 0\n",
      "patch_size 256\n",
      "save_path ./project/execution_files/train/patches\n",
      "Bag : normal_009 - Processing 98 batches in total\n"
     ]
    },
    {
     "name": "stderr",
     "output_type": "stream",
     "text": [
      "100%|███████████████████████████████████████████| 98/98 [01:55<00:00,  1.18s/it]\n"
     ]
    },
    {
     "name": "stdout",
     "output_type": "stream",
     "text": [
      "downsample [1. 1.]\n",
      "downsampled_level_dim [ 97792 221184]\n",
      "level_dim [ 97792 221184]\n",
      "name normal_010\n",
      "patch_level 0\n",
      "patch_size 256\n",
      "save_path ./project/execution_files/train/patches\n",
      "Bag : normal_010 - Processing 38 batches in total\n"
     ]
    },
    {
     "name": "stderr",
     "output_type": "stream",
     "text": [
      "100%|███████████████████████████████████████████| 38/38 [00:47<00:00,  1.24s/it]\n"
     ]
    },
    {
     "name": "stdout",
     "output_type": "stream",
     "text": [
      "downsample [1. 1.]\n",
      "downsampled_level_dim [ 97792 221184]\n",
      "level_dim [ 97792 221184]\n",
      "name normal_011\n",
      "patch_level 0\n",
      "patch_size 256\n",
      "save_path ./project/execution_files/train/patches\n",
      "Bag : normal_011 - Processing 172 batches in total\n"
     ]
    },
    {
     "name": "stderr",
     "output_type": "stream",
     "text": [
      "100%|█████████████████████████████████████████| 172/172 [03:13<00:00,  1.13s/it]\n"
     ]
    },
    {
     "name": "stdout",
     "output_type": "stream",
     "text": [
      "downsample [1. 1.]\n",
      "downsampled_level_dim [ 97792 221184]\n",
      "level_dim [ 97792 221184]\n",
      "name normal_012\n",
      "patch_level 0\n",
      "patch_size 256\n",
      "save_path ./project/execution_files/train/patches\n",
      "Bag : normal_012 - Processing 47 batches in total\n"
     ]
    },
    {
     "name": "stderr",
     "output_type": "stream",
     "text": [
      "100%|███████████████████████████████████████████| 47/47 [00:52<00:00,  1.11s/it]\n"
     ]
    },
    {
     "name": "stdout",
     "output_type": "stream",
     "text": [
      "downsample [1. 1.]\n",
      "downsampled_level_dim [ 97792 221184]\n",
      "level_dim [ 97792 221184]\n",
      "name normal_013\n",
      "patch_level 0\n",
      "patch_size 256\n",
      "save_path ./project/execution_files/train/patches\n",
      "Bag : normal_013 - Processing 25 batches in total\n"
     ]
    },
    {
     "name": "stderr",
     "output_type": "stream",
     "text": [
      "100%|███████████████████████████████████████████| 25/25 [00:28<00:00,  1.15s/it]\n"
     ]
    },
    {
     "name": "stdout",
     "output_type": "stream",
     "text": [
      "downsample [1. 1.]\n",
      "downsampled_level_dim [ 97792 221184]\n",
      "level_dim [ 97792 221184]\n",
      "name normal_014\n",
      "patch_level 0\n",
      "patch_size 256\n",
      "save_path ./project/execution_files/train/patches\n",
      "Bag : normal_014 - Processing 34 batches in total\n"
     ]
    },
    {
     "name": "stderr",
     "output_type": "stream",
     "text": [
      "100%|███████████████████████████████████████████| 34/34 [00:40<00:00,  1.19s/it]\n"
     ]
    },
    {
     "name": "stdout",
     "output_type": "stream",
     "text": [
      "downsample [1. 1.]\n",
      "downsampled_level_dim [ 97792 219648]\n",
      "level_dim [ 97792 219648]\n",
      "name normal_015\n",
      "patch_level 0\n",
      "patch_size 256\n",
      "save_path ./project/execution_files/train/patches\n",
      "Bag : normal_015 - Processing 75 batches in total\n"
     ]
    },
    {
     "name": "stderr",
     "output_type": "stream",
     "text": [
      "100%|███████████████████████████████████████████| 75/75 [01:33<00:00,  1.24s/it]\n"
     ]
    },
    {
     "name": "stdout",
     "output_type": "stream",
     "text": [
      "downsample [1. 1.]\n",
      "downsampled_level_dim [ 97792 221184]\n",
      "level_dim [ 97792 221184]\n",
      "name tumor_001\n",
      "patch_level 0\n",
      "patch_size 256\n",
      "save_path ./project/execution_files/train/patches\n",
      "Bag : tumor_001 - Processing 144 batches in total\n"
     ]
    },
    {
     "name": "stderr",
     "output_type": "stream",
     "text": [
      "100%|█████████████████████████████████████████| 144/144 [03:13<00:00,  1.35s/it]\n"
     ]
    },
    {
     "name": "stdout",
     "output_type": "stream",
     "text": [
      "downsample [1. 1.]\n",
      "downsampled_level_dim [ 97792 219648]\n",
      "level_dim [ 97792 219648]\n",
      "name tumor_002\n",
      "patch_level 0\n",
      "patch_size 256\n",
      "save_path ./project/execution_files/train/patches\n",
      "Bag : tumor_002 - Processing 63 batches in total\n"
     ]
    },
    {
     "name": "stderr",
     "output_type": "stream",
     "text": [
      "100%|███████████████████████████████████████████| 63/63 [01:52<00:00,  1.78s/it]\n"
     ]
    },
    {
     "name": "stdout",
     "output_type": "stream",
     "text": [
      "downsample [1. 1.]\n",
      "downsampled_level_dim [ 97792 221184]\n",
      "level_dim [ 97792 221184]\n",
      "name tumor_003\n",
      "patch_level 0\n",
      "patch_size 256\n",
      "save_path ./project/execution_files/train/patches\n",
      "Bag : tumor_003 - Processing 109 batches in total\n"
     ]
    },
    {
     "name": "stderr",
     "output_type": "stream",
     "text": [
      "100%|█████████████████████████████████████████| 109/109 [02:32<00:00,  1.40s/it]\n"
     ]
    },
    {
     "name": "stdout",
     "output_type": "stream",
     "text": [
      "downsample [1. 1.]\n",
      "downsampled_level_dim [ 97792 220672]\n",
      "level_dim [ 97792 220672]\n",
      "name tumor_004\n",
      "patch_level 0\n",
      "patch_size 256\n",
      "save_path ./project/execution_files/train/patches\n",
      "Bag : tumor_004 - Processing 187 batches in total\n"
     ]
    },
    {
     "name": "stderr",
     "output_type": "stream",
     "text": [
      "100%|█████████████████████████████████████████| 187/187 [04:00<00:00,  1.29s/it]\n"
     ]
    },
    {
     "name": "stdout",
     "output_type": "stream",
     "text": [
      "downsample [1. 1.]\n",
      "downsampled_level_dim [ 97792 219648]\n",
      "level_dim [ 97792 219648]\n",
      "name tumor_005\n",
      "patch_level 0\n",
      "patch_size 256\n",
      "save_path ./project/execution_files/train/patches\n",
      "Bag : tumor_005 - Processing 55 batches in total\n"
     ]
    },
    {
     "name": "stderr",
     "output_type": "stream",
     "text": [
      "100%|███████████████████████████████████████████| 55/55 [01:25<00:00,  1.55s/it]\n"
     ]
    },
    {
     "name": "stdout",
     "output_type": "stream",
     "text": [
      "downsample [1. 1.]\n",
      "downsampled_level_dim [ 97792 221184]\n",
      "level_dim [ 97792 221184]\n",
      "name tumor_006\n",
      "patch_level 0\n",
      "patch_size 256\n",
      "save_path ./project/execution_files/train/patches\n",
      "Bag : tumor_006 - Processing 241 batches in total\n"
     ]
    },
    {
     "name": "stderr",
     "output_type": "stream",
     "text": [
      "100%|█████████████████████████████████████████| 241/241 [05:56<00:00,  1.48s/it]\n"
     ]
    },
    {
     "name": "stdout",
     "output_type": "stream",
     "text": [
      "downsample [1. 1.]\n",
      "downsampled_level_dim [ 97792 221184]\n",
      "level_dim [ 97792 221184]\n",
      "name tumor_007\n",
      "patch_level 0\n",
      "patch_size 256\n",
      "save_path ./project/execution_files/train/patches\n",
      "Bag : tumor_007 - Processing 155 batches in total\n"
     ]
    },
    {
     "name": "stderr",
     "output_type": "stream",
     "text": [
      "100%|█████████████████████████████████████████| 155/155 [03:24<00:00,  1.32s/it]\n"
     ]
    },
    {
     "name": "stdout",
     "output_type": "stream",
     "text": [
      "downsample [1. 1.]\n",
      "downsampled_level_dim [ 97792 221184]\n",
      "level_dim [ 97792 221184]\n",
      "name tumor_008\n",
      "patch_level 0\n",
      "patch_size 256\n",
      "save_path ./project/execution_files/train/patches\n",
      "Bag : tumor_008 - Processing 180 batches in total\n"
     ]
    },
    {
     "name": "stderr",
     "output_type": "stream",
     "text": [
      "100%|█████████████████████████████████████████| 180/180 [03:55<00:00,  1.31s/it]\n"
     ]
    },
    {
     "name": "stdout",
     "output_type": "stream",
     "text": [
      "downsample [1. 1.]\n",
      "downsampled_level_dim [ 97792 217088]\n",
      "level_dim [ 97792 217088]\n",
      "name tumor_009\n",
      "patch_level 0\n",
      "patch_size 256\n",
      "save_path ./project/execution_files/train/patches\n",
      "Bag : tumor_009 - Processing 193 batches in total\n"
     ]
    },
    {
     "name": "stderr",
     "output_type": "stream",
     "text": [
      "100%|█████████████████████████████████████████| 193/193 [04:36<00:00,  1.43s/it]\n"
     ]
    },
    {
     "name": "stdout",
     "output_type": "stream",
     "text": [
      "downsample [1. 1.]\n",
      "downsampled_level_dim [ 97792 221184]\n",
      "level_dim [ 97792 221184]\n",
      "name tumor_011\n",
      "patch_level 0\n",
      "patch_size 256\n",
      "save_path ./project/execution_files/train/patches\n",
      "Bag : tumor_011 - Processing 107 batches in total\n"
     ]
    },
    {
     "name": "stderr",
     "output_type": "stream",
     "text": [
      "100%|█████████████████████████████████████████| 107/107 [02:28<00:00,  1.39s/it]\n"
     ]
    },
    {
     "name": "stdout",
     "output_type": "stream",
     "text": [
      "downsample [1. 1.]\n",
      "downsampled_level_dim [ 97792 215552]\n",
      "level_dim [ 97792 215552]\n",
      "name tumor_012\n",
      "patch_level 0\n",
      "patch_size 256\n",
      "save_path ./project/execution_files/train/patches\n",
      "Bag : tumor_012 - Processing 86 batches in total\n"
     ]
    },
    {
     "name": "stderr",
     "output_type": "stream",
     "text": [
      "100%|███████████████████████████████████████████| 86/86 [02:00<00:00,  1.40s/it]\n"
     ]
    },
    {
     "name": "stdout",
     "output_type": "stream",
     "text": [
      "downsample [1. 1.]\n",
      "downsampled_level_dim [ 97792 217088]\n",
      "level_dim [ 97792 217088]\n",
      "name tumor_013\n",
      "patch_level 0\n",
      "patch_size 256\n",
      "save_path ./project/execution_files/train/patches\n",
      "Bag : tumor_013 - Processing 100 batches in total\n"
     ]
    },
    {
     "name": "stderr",
     "output_type": "stream",
     "text": [
      "100%|█████████████████████████████████████████| 100/100 [02:32<00:00,  1.52s/it]\n"
     ]
    },
    {
     "name": "stdout",
     "output_type": "stream",
     "text": [
      "downsample [1. 1.]\n",
      "downsampled_level_dim [ 97792 214016]\n",
      "level_dim [ 97792 214016]\n",
      "name tumor_014\n",
      "patch_level 0\n",
      "patch_size 256\n",
      "save_path ./project/execution_files/train/patches\n",
      "Bag : tumor_014 - Processing 156 batches in total\n"
     ]
    },
    {
     "name": "stderr",
     "output_type": "stream",
     "text": [
      "100%|█████████████████████████████████████████| 156/156 [03:36<00:00,  1.39s/it]\n"
     ]
    },
    {
     "name": "stdout",
     "output_type": "stream",
     "text": [
      "downsample [1. 1.]\n",
      "downsampled_level_dim [ 97792 221184]\n",
      "level_dim [ 97792 221184]\n",
      "name tumor_016\n",
      "patch_level 0\n",
      "patch_size 256\n",
      "save_path ./project/execution_files/train/patches\n",
      "Bag : tumor_016 - Processing 68 batches in total\n"
     ]
    },
    {
     "name": "stderr",
     "output_type": "stream",
     "text": [
      "100%|███████████████████████████████████████████| 68/68 [01:46<00:00,  1.56s/it]\n"
     ]
    },
    {
     "name": "stdout",
     "output_type": "stream",
     "text": [
      "downsample [1. 1.]\n",
      "downsampled_level_dim [ 97792 219648]\n",
      "level_dim [ 97792 219648]\n",
      "name tumor_017\n",
      "patch_level 0\n",
      "patch_size 256\n",
      "save_path ./project/execution_files/train/patches\n",
      "Bag : tumor_017 - Processing 141 batches in total\n"
     ]
    },
    {
     "name": "stderr",
     "output_type": "stream",
     "text": [
      "100%|█████████████████████████████████████████| 141/141 [03:13<00:00,  1.37s/it]\n"
     ]
    },
    {
     "name": "stdout",
     "output_type": "stream",
     "text": [
      "The features' computation is done.\n"
     ]
    }
   ],
   "source": [
    "import torch\n",
    "from torch.utils.data import DataLoader\n",
    "from tqdm import tqdm\n",
    "from models.resnet_custom import resnet50_baseline\n",
    "import openslide\n",
    "\n",
    "wsi_bag = WSI_Dataset(wsi_csv)\n",
    "device = torch.device('cuda') if torch.cuda.is_available() else torch.device('cpu')\n",
    "model = resnet50_baseline(pretrained=True)\n",
    "model = model.to(device)\n",
    "mode = 'w'\n",
    "\n",
    "for item in wsi_bag.df['slide_id']:\n",
    "    wsi = openslide.open_slide(wsi_path+item+'.tif')\n",
    "    patches = Patches_Dataset(patches_path+item+'.h5', wsi, True, 1, 256)\n",
    "    patches_loader = DataLoader(patches, 256, {'num_workers': 4, 'pin_memory': True}, collate_fn=collate_features)\n",
    "    print('Bag : {} - Processing {} batches in total'.format(item,len(patches_loader)))\n",
    "    for i, (batch_images,batch_coords) in enumerate(tqdm(patches_loader)):\n",
    "        with torch.no_grad():\n",
    "            #if i % 10 == 0:\n",
    "            \t#print('batch {}/{}, {} files processed'.format(i, len(patches_loader), i * 256))\n",
    "            batch_images = batch_images.to(device, non_blocking=True)\n",
    "            features = model(batch_images)\n",
    "            features = features.cpu().numpy()\n",
    "            outputs = {'features': features, 'coords': batch_coords}\n",
    "            save_hdf5(output_path+item+'_features.h5', outputs, None, mode=mode)\n",
    "            mode = 'a'\n",
    "\n",
    "    file = h5py.File(output_path+item+'_features.h5', \"r\")\n",
    "    \n",
    "    features = file['features'][:]\n",
    "    features = torch.from_numpy(features)\n",
    "    torch.save(features, output_path+item+'_features.pt')\n",
    "\n",
    "print(\"The features' computation is done.\")\n"
   ]
  },
  {
   "cell_type": "code",
   "execution_count": null,
   "id": "1b6f8a74-646a-402b-bb6c-dfd6aca7888c",
   "metadata": {},
   "outputs": [],
   "source": []
  }
 ],
 "metadata": {
  "kernelspec": {
   "display_name": "Python 3 (ipykernel)",
   "language": "python",
   "name": "python3"
  },
  "language_info": {
   "codemirror_mode": {
    "name": "ipython",
    "version": 3
   },
   "file_extension": ".py",
   "mimetype": "text/x-python",
   "name": "python",
   "nbconvert_exporter": "python",
   "pygments_lexer": "ipython3",
   "version": "3.11.5"
  }
 },
 "nbformat": 4,
 "nbformat_minor": 5
}
